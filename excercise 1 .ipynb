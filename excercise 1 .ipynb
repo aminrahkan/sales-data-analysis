{
 "cells": [
  {
   "cell_type": "code",
   "execution_count": 6,
   "id": "bb5e525a-27e0-4bcc-95a6-8e2fa100b72a",
   "metadata": {},
   "outputs": [
    {
     "data": {
      "text/html": [
       "<div>\n",
       "<style scoped>\n",
       "    .dataframe tbody tr th:only-of-type {\n",
       "        vertical-align: middle;\n",
       "    }\n",
       "\n",
       "    .dataframe tbody tr th {\n",
       "        vertical-align: top;\n",
       "    }\n",
       "\n",
       "    .dataframe thead th {\n",
       "        text-align: right;\n",
       "    }\n",
       "</style>\n",
       "<table border=\"1\" class=\"dataframe\">\n",
       "  <thead>\n",
       "    <tr style=\"text-align: right;\">\n",
       "      <th></th>\n",
       "      <th>ProductID</th>\n",
       "      <th>ProductName</th>\n",
       "      <th>Category</th>\n",
       "      <th>City</th>\n",
       "      <th>Price</th>\n",
       "      <th>QuantitySold</th>\n",
       "      <th>Month</th>\n",
       "      <th>Year</th>\n",
       "    </tr>\n",
       "  </thead>\n",
       "  <tbody>\n",
       "    <tr>\n",
       "      <th>0</th>\n",
       "      <td>577</td>\n",
       "      <td>Pen</td>\n",
       "      <td>Stationery</td>\n",
       "      <td>Mashhad</td>\n",
       "      <td>154000</td>\n",
       "      <td>199.0</td>\n",
       "      <td>7.0</td>\n",
       "      <td>2022.0</td>\n",
       "    </tr>\n",
       "    <tr>\n",
       "      <th>1</th>\n",
       "      <td>616</td>\n",
       "      <td>Desk Lamp</td>\n",
       "      <td>Office Supplies</td>\n",
       "      <td>Mashhad</td>\n",
       "      <td>799000</td>\n",
       "      <td>174.0</td>\n",
       "      <td>4.0</td>\n",
       "      <td>2022.0</td>\n",
       "    </tr>\n",
       "    <tr>\n",
       "      <th>2</th>\n",
       "      <td>535</td>\n",
       "      <td>Bookshelf</td>\n",
       "      <td>Furniture</td>\n",
       "      <td>Ahvaz</td>\n",
       "      <td>1469000</td>\n",
       "      <td>396.0</td>\n",
       "      <td>1.0</td>\n",
       "      <td>2024.0</td>\n",
       "    </tr>\n",
       "    <tr>\n",
       "      <th>3</th>\n",
       "      <td>416</td>\n",
       "      <td>Mouse</td>\n",
       "      <td>Electronics</td>\n",
       "      <td>Ahvaz</td>\n",
       "      <td>44854000</td>\n",
       "      <td>44.0</td>\n",
       "      <td>2.0</td>\n",
       "      <td>2023.0</td>\n",
       "    </tr>\n",
       "    <tr>\n",
       "      <th>4</th>\n",
       "      <td>886</td>\n",
       "      <td>Bookshelf</td>\n",
       "      <td>Furniture</td>\n",
       "      <td>Rasht</td>\n",
       "      <td>4399000</td>\n",
       "      <td>118.0</td>\n",
       "      <td>2.0</td>\n",
       "      <td>2020.0</td>\n",
       "    </tr>\n",
       "  </tbody>\n",
       "</table>\n",
       "</div>"
      ],
      "text/plain": [
       "   ProductID ProductName         Category     City     Price  QuantitySold  \\\n",
       "0        577         Pen       Stationery  Mashhad    154000         199.0   \n",
       "1        616   Desk Lamp  Office Supplies  Mashhad    799000         174.0   \n",
       "2        535   Bookshelf        Furniture    Ahvaz   1469000         396.0   \n",
       "3        416       Mouse      Electronics    Ahvaz  44854000          44.0   \n",
       "4        886   Bookshelf        Furniture    Rasht   4399000         118.0   \n",
       "\n",
       "   Month    Year  \n",
       "0    7.0  2022.0  \n",
       "1    4.0  2022.0  \n",
       "2    1.0  2024.0  \n",
       "3    2.0  2023.0  \n",
       "4    2.0  2020.0  "
      ]
     },
     "execution_count": 6,
     "metadata": {},
     "output_type": "execute_result"
    }
   ],
   "source": [
    "import numpy as np \n",
    "import pandas as pd \n",
    "import matplotlib.pyplot as plt \n",
    "\n",
    "\n",
    "data = pd.read_csv('sales_data.csv')\n",
    "data.head()\n",
    "\n"
   ]
  },
  {
   "cell_type": "code",
   "execution_count": 10,
   "id": "66f6eb9c-6a6e-4321-8546-3c573f938e34",
   "metadata": {},
   "outputs": [
    {
     "data": {
      "text/html": [
       "<div>\n",
       "<style scoped>\n",
       "    .dataframe tbody tr th:only-of-type {\n",
       "        vertical-align: middle;\n",
       "    }\n",
       "\n",
       "    .dataframe tbody tr th {\n",
       "        vertical-align: top;\n",
       "    }\n",
       "\n",
       "    .dataframe thead th {\n",
       "        text-align: right;\n",
       "    }\n",
       "</style>\n",
       "<table border=\"1\" class=\"dataframe\">\n",
       "  <thead>\n",
       "    <tr style=\"text-align: right;\">\n",
       "      <th></th>\n",
       "      <th>ProductID</th>\n",
       "      <th>Price</th>\n",
       "      <th>QuantitySold</th>\n",
       "      <th>Month</th>\n",
       "      <th>Year</th>\n",
       "    </tr>\n",
       "  </thead>\n",
       "  <tbody>\n",
       "    <tr>\n",
       "      <th>count</th>\n",
       "      <td>50000.000000</td>\n",
       "      <td>5.000000e+04</td>\n",
       "      <td>49948.000000</td>\n",
       "      <td>49651.000000</td>\n",
       "      <td>49760.000000</td>\n",
       "    </tr>\n",
       "    <tr>\n",
       "      <th>mean</th>\n",
       "      <td>549.381340</td>\n",
       "      <td>1.590999e+07</td>\n",
       "      <td>142.207356</td>\n",
       "      <td>6.499144</td>\n",
       "      <td>2022.006330</td>\n",
       "    </tr>\n",
       "    <tr>\n",
       "      <th>std</th>\n",
       "      <td>259.877269</td>\n",
       "      <td>1.610514e+07</td>\n",
       "      <td>153.127378</td>\n",
       "      <td>3.450594</td>\n",
       "      <td>1.415868</td>\n",
       "    </tr>\n",
       "    <tr>\n",
       "      <th>min</th>\n",
       "      <td>100.000000</td>\n",
       "      <td>1.000000e+04</td>\n",
       "      <td>1.000000</td>\n",
       "      <td>1.000000</td>\n",
       "      <td>2020.000000</td>\n",
       "    </tr>\n",
       "    <tr>\n",
       "      <th>25%</th>\n",
       "      <td>324.000000</td>\n",
       "      <td>1.528000e+06</td>\n",
       "      <td>25.000000</td>\n",
       "      <td>3.000000</td>\n",
       "      <td>2021.000000</td>\n",
       "    </tr>\n",
       "    <tr>\n",
       "      <th>50%</th>\n",
       "      <td>550.000000</td>\n",
       "      <td>9.189500e+06</td>\n",
       "      <td>48.000000</td>\n",
       "      <td>6.000000</td>\n",
       "      <td>2022.000000</td>\n",
       "    </tr>\n",
       "    <tr>\n",
       "      <th>75%</th>\n",
       "      <td>774.000000</td>\n",
       "      <td>2.960100e+07</td>\n",
       "      <td>256.000000</td>\n",
       "      <td>9.000000</td>\n",
       "      <td>2023.000000</td>\n",
       "    </tr>\n",
       "    <tr>\n",
       "      <th>max</th>\n",
       "      <td>998.000000</td>\n",
       "      <td>4.999800e+07</td>\n",
       "      <td>500.000000</td>\n",
       "      <td>12.000000</td>\n",
       "      <td>2024.000000</td>\n",
       "    </tr>\n",
       "  </tbody>\n",
       "</table>\n",
       "</div>"
      ],
      "text/plain": [
       "          ProductID         Price  QuantitySold         Month          Year\n",
       "count  50000.000000  5.000000e+04  49948.000000  49651.000000  49760.000000\n",
       "mean     549.381340  1.590999e+07    142.207356      6.499144   2022.006330\n",
       "std      259.877269  1.610514e+07    153.127378      3.450594      1.415868\n",
       "min      100.000000  1.000000e+04      1.000000      1.000000   2020.000000\n",
       "25%      324.000000  1.528000e+06     25.000000      3.000000   2021.000000\n",
       "50%      550.000000  9.189500e+06     48.000000      6.000000   2022.000000\n",
       "75%      774.000000  2.960100e+07    256.000000      9.000000   2023.000000\n",
       "max      998.000000  4.999800e+07    500.000000     12.000000   2024.000000"
      ]
     },
     "execution_count": 10,
     "metadata": {},
     "output_type": "execute_result"
    }
   ],
   "source": [
    "data.describe()"
   ]
  },
  {
   "cell_type": "code",
   "execution_count": 11,
   "id": "c0cd3870-c52f-41eb-b21c-411a2f4a4426",
   "metadata": {},
   "outputs": [
    {
     "data": {
      "text/plain": [
       "ProductName\n",
       "Table         3435\n",
       "Smartphone    3406\n",
       "Keyboard      3378\n",
       "Monitor       3374\n",
       "Tablet        3372\n",
       "Mouse         3342\n",
       "Camera        3325\n",
       "Headphone     3303\n",
       "Pen           3288\n",
       "Chair         3286\n",
       "Notebook      3269\n",
       "Bookshelf     3267\n",
       "Printer       3257\n",
       "Desk Lamp     3234\n",
       "Laptop        3234\n",
       "Name: count, dtype: int64"
      ]
     },
     "execution_count": 11,
     "metadata": {},
     "output_type": "execute_result"
    }
   ],
   "source": [
    "data['ProductName'].value_counts()\n"
   ]
  },
  {
   "cell_type": "code",
   "execution_count": 12,
   "id": "b5da311d-3c44-4016-8614-6076c0df7c59",
   "metadata": {},
   "outputs": [
    {
     "data": {
      "text/plain": [
       "Category\n",
       "Electronics        30083\n",
       "Furniture          10029\n",
       "Stationery          6577\n",
       "Office Supplies     3245\n",
       "Name: count, dtype: int64"
      ]
     },
     "execution_count": 12,
     "metadata": {},
     "output_type": "execute_result"
    }
   ],
   "source": [
    "data['Category'].value_counts()\n"
   ]
  },
  {
   "cell_type": "code",
   "execution_count": 13,
   "id": "58864a63-d498-4b71-99b0-8153b1339e16",
   "metadata": {},
   "outputs": [
    {
     "data": {
      "text/plain": [
       "City\n",
       "Isfahan       5083\n",
       "Rasht         5078\n",
       "Qom           5066\n",
       "Tehran        4996\n",
       "Karaj         4968\n",
       "Kermanshah    4961\n",
       "Shiraz        4959\n",
       "Tabriz        4944\n",
       "Ahvaz         4906\n",
       "Mashhad       4871\n",
       "Name: count, dtype: int64"
      ]
     },
     "execution_count": 13,
     "metadata": {},
     "output_type": "execute_result"
    }
   ],
   "source": [
    "data['City'].value_counts()"
   ]
  },
  {
   "cell_type": "code",
   "execution_count": 14,
   "id": "785a19ed-4ae8-441c-8953-d15c4c1d2d56",
   "metadata": {},
   "outputs": [
    {
     "data": {
      "text/plain": [
       "ProductID       False\n",
       "ProductName      True\n",
       "Category         True\n",
       "City             True\n",
       "Price           False\n",
       "QuantitySold     True\n",
       "Month            True\n",
       "Year             True\n",
       "dtype: bool"
      ]
     },
     "execution_count": 14,
     "metadata": {},
     "output_type": "execute_result"
    }
   ],
   "source": [
    "data.isna().any()"
   ]
  },
  {
   "cell_type": "code",
   "execution_count": 15,
   "id": "ebfbd84c-7144-4ff8-8e23-f3059e5e401a",
   "metadata": {},
   "outputs": [
    {
     "data": {
      "text/plain": [
       "ProductID         0\n",
       "ProductName     230\n",
       "Category         66\n",
       "City            168\n",
       "Price             0\n",
       "QuantitySold     52\n",
       "Month           349\n",
       "Year            240\n",
       "dtype: int64"
      ]
     },
     "execution_count": 15,
     "metadata": {},
     "output_type": "execute_result"
    }
   ],
   "source": [
    "data.isna().sum()"
   ]
  },
  {
   "cell_type": "code",
   "execution_count": 16,
   "id": "a2d261c0-9626-4e2b-ad1f-c15a17ab2583",
   "metadata": {},
   "outputs": [
    {
     "data": {
      "text/plain": [
       "1105"
      ]
     },
     "execution_count": 16,
     "metadata": {},
     "output_type": "execute_result"
    }
   ],
   "source": [
    "data.isna().sum().sum()\n"
   ]
  },
  {
   "cell_type": "code",
   "execution_count": 17,
   "id": "ac21bad9-37be-4825-acb3-070fb757405b",
   "metadata": {},
   "outputs": [],
   "source": [
    "data['ProductName']=data['ProductName'].fillna('Unknown')"
   ]
  },
  {
   "cell_type": "code",
   "execution_count": 18,
   "id": "c9023615-fb17-4429-8e7a-11b517a64370",
   "metadata": {},
   "outputs": [
    {
     "data": {
      "text/plain": [
       "ProductID         0\n",
       "ProductName       0\n",
       "Category         66\n",
       "City            168\n",
       "Price             0\n",
       "QuantitySold     52\n",
       "Month           349\n",
       "Year            240\n",
       "dtype: int64"
      ]
     },
     "execution_count": 18,
     "metadata": {},
     "output_type": "execute_result"
    }
   ],
   "source": [
    "data.isna().sum()"
   ]
  },
  {
   "cell_type": "code",
   "execution_count": 19,
   "id": "c4b8a858-2a0f-4611-aa9c-c65bc4be916f",
   "metadata": {},
   "outputs": [
    {
     "data": {
      "text/plain": [
       "ProductName\n",
       "Table         3435\n",
       "Smartphone    3406\n",
       "Keyboard      3378\n",
       "Monitor       3374\n",
       "Tablet        3372\n",
       "Mouse         3342\n",
       "Camera        3325\n",
       "Headphone     3303\n",
       "Pen           3288\n",
       "Chair         3286\n",
       "Notebook      3269\n",
       "Bookshelf     3267\n",
       "Printer       3257\n",
       "Desk Lamp     3234\n",
       "Laptop        3234\n",
       "Unknown        230\n",
       "Name: count, dtype: int64"
      ]
     },
     "execution_count": 19,
     "metadata": {},
     "output_type": "execute_result"
    }
   ],
   "source": [
    "data['ProductName'].value_counts()\n",
    "\n"
   ]
  },
  {
   "cell_type": "code",
   "execution_count": 20,
   "id": "2b28f428-962f-4043-b3d3-1edaa329119d",
   "metadata": {},
   "outputs": [],
   "source": [
    "data =data.dropna()"
   ]
  },
  {
   "cell_type": "code",
   "execution_count": 21,
   "id": "3acbb85a-d167-4215-ac59-cd544b1fdab2",
   "metadata": {},
   "outputs": [
    {
     "data": {
      "text/plain": [
       "ProductID       0\n",
       "ProductName     0\n",
       "Category        0\n",
       "City            0\n",
       "Price           0\n",
       "QuantitySold    0\n",
       "Month           0\n",
       "Year            0\n",
       "dtype: int64"
      ]
     },
     "execution_count": 21,
     "metadata": {},
     "output_type": "execute_result"
    }
   ],
   "source": [
    "data.isna().sum()"
   ]
  },
  {
   "cell_type": "code",
   "execution_count": 26,
   "id": "bad4187c-ced9-4d26-bc70-e9f0fa193c39",
   "metadata": {},
   "outputs": [
    {
     "data": {
      "text/plain": [
       "(49172, 8)"
      ]
     },
     "execution_count": 26,
     "metadata": {},
     "output_type": "execute_result"
    }
   ],
   "source": [
    "data.shape"
   ]
  },
  {
   "cell_type": "code",
   "execution_count": 27,
   "id": "1736a440-f2e7-4fec-bce8-764a31c87513",
   "metadata": {},
   "outputs": [],
   "source": [
    "data.loc[data['ProductID']==1,'ProductName']='Printer'"
   ]
  },
  {
   "cell_type": "code",
   "execution_count": 29,
   "id": "37d7f0a1-cc24-41d6-aa25-24b2d3f67549",
   "metadata": {},
   "outputs": [
    {
     "data": {
      "text/html": [
       "<div>\n",
       "<style scoped>\n",
       "    .dataframe tbody tr th:only-of-type {\n",
       "        vertical-align: middle;\n",
       "    }\n",
       "\n",
       "    .dataframe tbody tr th {\n",
       "        vertical-align: top;\n",
       "    }\n",
       "\n",
       "    .dataframe thead th {\n",
       "        text-align: right;\n",
       "    }\n",
       "</style>\n",
       "<table border=\"1\" class=\"dataframe\">\n",
       "  <thead>\n",
       "    <tr style=\"text-align: right;\">\n",
       "      <th></th>\n",
       "      <th>ProductID</th>\n",
       "      <th>ProductName</th>\n",
       "      <th>Category</th>\n",
       "      <th>City</th>\n",
       "      <th>Price</th>\n",
       "      <th>QuantitySold</th>\n",
       "      <th>Month</th>\n",
       "      <th>Year</th>\n",
       "    </tr>\n",
       "  </thead>\n",
       "  <tbody>\n",
       "    <tr>\n",
       "      <th>0</th>\n",
       "      <td>577</td>\n",
       "      <td>Pen</td>\n",
       "      <td>Stationery</td>\n",
       "      <td>Mashhad</td>\n",
       "      <td>154000</td>\n",
       "      <td>199.0</td>\n",
       "      <td>7.0</td>\n",
       "      <td>2022.0</td>\n",
       "    </tr>\n",
       "    <tr>\n",
       "      <th>1</th>\n",
       "      <td>616</td>\n",
       "      <td>Desk Lamp</td>\n",
       "      <td>Office Supplies</td>\n",
       "      <td>Mashhad</td>\n",
       "      <td>799000</td>\n",
       "      <td>174.0</td>\n",
       "      <td>4.0</td>\n",
       "      <td>2022.0</td>\n",
       "    </tr>\n",
       "    <tr>\n",
       "      <th>2</th>\n",
       "      <td>535</td>\n",
       "      <td>Bookshelf</td>\n",
       "      <td>Furniture</td>\n",
       "      <td>Ahvaz</td>\n",
       "      <td>1469000</td>\n",
       "      <td>396.0</td>\n",
       "      <td>1.0</td>\n",
       "      <td>2024.0</td>\n",
       "    </tr>\n",
       "    <tr>\n",
       "      <th>3</th>\n",
       "      <td>416</td>\n",
       "      <td>Mouse</td>\n",
       "      <td>Electronics</td>\n",
       "      <td>Ahvaz</td>\n",
       "      <td>44854000</td>\n",
       "      <td>44.0</td>\n",
       "      <td>2.0</td>\n",
       "      <td>2023.0</td>\n",
       "    </tr>\n",
       "    <tr>\n",
       "      <th>4</th>\n",
       "      <td>886</td>\n",
       "      <td>Bookshelf</td>\n",
       "      <td>Furniture</td>\n",
       "      <td>Rasht</td>\n",
       "      <td>4399000</td>\n",
       "      <td>118.0</td>\n",
       "      <td>2.0</td>\n",
       "      <td>2020.0</td>\n",
       "    </tr>\n",
       "    <tr>\n",
       "      <th>...</th>\n",
       "      <td>...</td>\n",
       "      <td>...</td>\n",
       "      <td>...</td>\n",
       "      <td>...</td>\n",
       "      <td>...</td>\n",
       "      <td>...</td>\n",
       "      <td>...</td>\n",
       "      <td>...</td>\n",
       "    </tr>\n",
       "    <tr>\n",
       "      <th>49995</th>\n",
       "      <td>311</td>\n",
       "      <td>Chair</td>\n",
       "      <td>Furniture</td>\n",
       "      <td>Tehran</td>\n",
       "      <td>1848000</td>\n",
       "      <td>443.0</td>\n",
       "      <td>10.0</td>\n",
       "      <td>2021.0</td>\n",
       "    </tr>\n",
       "    <tr>\n",
       "      <th>49996</th>\n",
       "      <td>480</td>\n",
       "      <td>Pen</td>\n",
       "      <td>Stationery</td>\n",
       "      <td>Isfahan</td>\n",
       "      <td>93000</td>\n",
       "      <td>158.0</td>\n",
       "      <td>6.0</td>\n",
       "      <td>2024.0</td>\n",
       "    </tr>\n",
       "    <tr>\n",
       "      <th>49997</th>\n",
       "      <td>941</td>\n",
       "      <td>Headphone</td>\n",
       "      <td>Electronics</td>\n",
       "      <td>Ahvaz</td>\n",
       "      <td>33549000</td>\n",
       "      <td>45.0</td>\n",
       "      <td>5.0</td>\n",
       "      <td>2020.0</td>\n",
       "    </tr>\n",
       "    <tr>\n",
       "      <th>49998</th>\n",
       "      <td>594</td>\n",
       "      <td>Laptop</td>\n",
       "      <td>Electronics</td>\n",
       "      <td>Kermanshah</td>\n",
       "      <td>22101000</td>\n",
       "      <td>24.0</td>\n",
       "      <td>3.0</td>\n",
       "      <td>2020.0</td>\n",
       "    </tr>\n",
       "    <tr>\n",
       "      <th>49999</th>\n",
       "      <td>658</td>\n",
       "      <td>Laptop</td>\n",
       "      <td>Electronics</td>\n",
       "      <td>Ahvaz</td>\n",
       "      <td>49998000</td>\n",
       "      <td>47.0</td>\n",
       "      <td>3.0</td>\n",
       "      <td>2020.0</td>\n",
       "    </tr>\n",
       "  </tbody>\n",
       "</table>\n",
       "<p>49172 rows × 8 columns</p>\n",
       "</div>"
      ],
      "text/plain": [
       "       ProductID ProductName         Category        City     Price  \\\n",
       "0            577         Pen       Stationery     Mashhad    154000   \n",
       "1            616   Desk Lamp  Office Supplies     Mashhad    799000   \n",
       "2            535   Bookshelf        Furniture       Ahvaz   1469000   \n",
       "3            416       Mouse      Electronics       Ahvaz  44854000   \n",
       "4            886   Bookshelf        Furniture       Rasht   4399000   \n",
       "...          ...         ...              ...         ...       ...   \n",
       "49995        311       Chair        Furniture      Tehran   1848000   \n",
       "49996        480         Pen       Stationery     Isfahan     93000   \n",
       "49997        941   Headphone      Electronics       Ahvaz  33549000   \n",
       "49998        594      Laptop      Electronics  Kermanshah  22101000   \n",
       "49999        658      Laptop      Electronics       Ahvaz  49998000   \n",
       "\n",
       "       QuantitySold  Month    Year  \n",
       "0             199.0    7.0  2022.0  \n",
       "1             174.0    4.0  2022.0  \n",
       "2             396.0    1.0  2024.0  \n",
       "3              44.0    2.0  2023.0  \n",
       "4             118.0    2.0  2020.0  \n",
       "...             ...    ...     ...  \n",
       "49995         443.0   10.0  2021.0  \n",
       "49996         158.0    6.0  2024.0  \n",
       "49997          45.0    5.0  2020.0  \n",
       "49998          24.0    3.0  2020.0  \n",
       "49999          47.0    3.0  2020.0  \n",
       "\n",
       "[49172 rows x 8 columns]"
      ]
     },
     "execution_count": 29,
     "metadata": {},
     "output_type": "execute_result"
    }
   ],
   "source": [
    "data\n"
   ]
  },
  {
   "cell_type": "code",
   "execution_count": 7,
   "id": "722f5942-09d1-4743-b8f1-0673f484086e",
   "metadata": {},
   "outputs": [],
   "source": [
    "Month_Sales = data.groupby('Month')['Price'].sum()"
   ]
  },
  {
   "cell_type": "code",
   "execution_count": 10,
   "id": "362d32b3-d84e-44f2-9a34-fd672a952431",
   "metadata": {},
   "outputs": [
    {
     "data": {
      "text/plain": [
       "Month\n",
       "1.0     64120157000\n",
       "2.0     65789349000\n",
       "3.0     65919921000\n",
       "4.0     64335919000\n",
       "5.0     66983921000\n",
       "6.0     67096035000\n",
       "7.0     63454966000\n",
       "8.0     65870311000\n",
       "9.0     66555807000\n",
       "10.0    68252647000\n",
       "11.0    65351270000\n",
       "12.0    66190433000\n",
       "Name: Price, dtype: int64"
      ]
     },
     "execution_count": 10,
     "metadata": {},
     "output_type": "execute_result"
    }
   ],
   "source": [
    "Month_Sales"
   ]
  },
  {
   "cell_type": "code",
   "execution_count": 11,
   "id": "22db448a-a2c1-42d4-bdf0-e37a1e32ece2",
   "metadata": {},
   "outputs": [
    {
     "data": {
      "text/plain": [
       "<BarContainer object of 12 artists>"
      ]
     },
     "execution_count": 11,
     "metadata": {},
     "output_type": "execute_result"
    },
    {
     "data": {
      "image/png": "[encoded data removed]",
      "text/plain": [
       "<Figure size 640x480 with 1 Axes>"
      ]
     },
     "metadata": {},
     "output_type": "display_data"
    }
   ],
   "source": [
    "plt.bar(Month_Sales.index,Month_Sales.values)"
   ]
  },
  {
   "cell_type": "code",
   "execution_count": 21,
   "id": "e87fca5c-b7b6-4fbd-b265-20b8a0d0cb0c",
   "metadata": {},
   "outputs": [],
   "source": [
    " BestSalesProduct= data.groupby('ProductName')['QuantitySold'].sum().sort_values(ascending=False)[:10]"
   ]
  },
  {
   "cell_type": "code",
   "execution_count": 22,
   "id": "c3edd4c2-215c-4fd5-b8b8-3ab24811918c",
   "metadata": {},
   "outputs": [
    {
     "data": {
      "text/plain": [
       "ProductName\n",
       "Table         880110.0\n",
       "Chair         835062.0\n",
       "Bookshelf     833496.0\n",
       "Notebook      832034.0\n",
       "Pen           828730.0\n",
       "Desk Lamp     820415.0\n",
       "Keyboard      235242.0\n",
       "Smartphone    235043.0\n",
       "Tablet        233127.0\n",
       "Mouse         229739.0\n",
       "Name: QuantitySold, dtype: float64"
      ]
     },
     "execution_count": 22,
     "metadata": {},
     "output_type": "execute_result"
    }
   ],
   "source": [
    "BestSalesProduct"
   ]
  },
  {
   "cell_type": "code",
   "execution_count": 25,
   "id": "f489cbc4-00bd-4023-a922-95bdba41906d",
   "metadata": {},
   "outputs": [
    {
     "data": {
      "text/plain": [
       "<BarContainer object of 10 artists>"
      ]
     },
     "execution_count": 25,
     "metadata": {},
     "output_type": "execute_result"
    },
    {
     "data": {
      "image/png": "[encoded data removed]",
      "text/plain": [
       "<Figure size 1200x600 with 1 Axes>"
      ]
     },
     "metadata": {},
     "output_type": "display_data"
    }
   ],
   "source": [
    "plt.figure(figsize=(12,6))\n",
    "plt.bar(BestSalesProduct.index,BestSalesProduct.values)"
   ]
  },
  {
   "cell_type": "code",
   "execution_count": 30,
   "id": "01e1896e-f50c-40bf-9b09-f7454d5f3991",
   "metadata": {},
   "outputs": [
    {
     "data": {
      "text/plain": [
       "(array([15388.,  7053.,  1527.,  1528.,  1540.,  1531.,  1569.,  1540.,\n",
       "         1519.,  1500.,  1525.,  1510.,  1522.,  1521.,  1581.,  1527.,\n",
       "         1487.,  1556.,  1527.,  1549.]),\n",
       " array([1.00000e+04, 2.50940e+06, 5.00880e+06, 7.50820e+06, 1.00076e+07,\n",
       "        1.25070e+07, 1.50064e+07, 1.75058e+07, 2.00052e+07, 2.25046e+07,\n",
       "        2.50040e+07, 2.75034e+07, 3.00028e+07, 3.25022e+07, 3.50016e+07,\n",
       "        3.75010e+07, 4.00004e+07, 4.24998e+07, 4.49992e+07, 4.74986e+07,\n",
       "        4.99980e+07]),\n",
       " <BarContainer object of 20 artists>)"
      ]
     },
     "execution_count": 30,
     "metadata": {},
     "output_type": "execute_result"
    },
    {
     "data": {
      "image/png": "[encoded data removed]",
      "text/plain": [
       "<Figure size 640x480 with 1 Axes>"
      ]
     },
     "metadata": {},
     "output_type": "display_data"
    }
   ],
   "source": [
    "plt.hist(data['Price'],bins=20,edgecolor='k')"
   ]
  },
  {
   "cell_type": "code",
   "execution_count": 31,
   "id": "09305ae2-2631-4a49-b175-356da14c3242",
   "metadata": {},
   "outputs": [],
   "source": [
    "salesPerCities = data.groupby('City')\n"
   ]
  },
  {
   "cell_type": "code",
   "execution_count": 33,
   "id": "ce2ad2a5-1c7c-45ee-83bf-85c8c76328a0",
   "metadata": {},
   "outputs": [
    {
     "data": {
      "text/html": [
       "<div>\n",
       "<style scoped>\n",
       "    .dataframe tbody tr th:only-of-type {\n",
       "        vertical-align: middle;\n",
       "    }\n",
       "\n",
       "    .dataframe tbody tr th {\n",
       "        vertical-align: top;\n",
       "    }\n",
       "\n",
       "    .dataframe thead th {\n",
       "        text-align: right;\n",
       "    }\n",
       "</style>\n",
       "<table border=\"1\" class=\"dataframe\">\n",
       "  <thead>\n",
       "    <tr style=\"text-align: right;\">\n",
       "      <th></th>\n",
       "      <th>ProductID</th>\n",
       "      <th>ProductName</th>\n",
       "      <th>Category</th>\n",
       "      <th>City</th>\n",
       "      <th>Price</th>\n",
       "      <th>QuantitySold</th>\n",
       "      <th>Month</th>\n",
       "      <th>Year</th>\n",
       "    </tr>\n",
       "  </thead>\n",
       "  <tbody>\n",
       "    <tr>\n",
       "      <th>6</th>\n",
       "      <td>323</td>\n",
       "      <td>Laptop</td>\n",
       "      <td>Electronics</td>\n",
       "      <td>Tehran</td>\n",
       "      <td>42432000</td>\n",
       "      <td>9.0</td>\n",
       "      <td>7.0</td>\n",
       "      <td>2023.0</td>\n",
       "    </tr>\n",
       "    <tr>\n",
       "      <th>9</th>\n",
       "      <td>687</td>\n",
       "      <td>Laptop</td>\n",
       "      <td>Electronics</td>\n",
       "      <td>Tehran</td>\n",
       "      <td>34841000</td>\n",
       "      <td>1.0</td>\n",
       "      <td>7.0</td>\n",
       "      <td>2023.0</td>\n",
       "    </tr>\n",
       "    <tr>\n",
       "      <th>26</th>\n",
       "      <td>970</td>\n",
       "      <td>Notebook</td>\n",
       "      <td>Stationery</td>\n",
       "      <td>Tehran</td>\n",
       "      <td>44000</td>\n",
       "      <td>434.0</td>\n",
       "      <td>11.0</td>\n",
       "      <td>2021.0</td>\n",
       "    </tr>\n",
       "    <tr>\n",
       "      <th>44</th>\n",
       "      <td>740</td>\n",
       "      <td>Pen</td>\n",
       "      <td>Stationery</td>\n",
       "      <td>Tehran</td>\n",
       "      <td>192000</td>\n",
       "      <td>383.0</td>\n",
       "      <td>3.0</td>\n",
       "      <td>2020.0</td>\n",
       "    </tr>\n",
       "    <tr>\n",
       "      <th>62</th>\n",
       "      <td>119</td>\n",
       "      <td>Bookshelf</td>\n",
       "      <td>Furniture</td>\n",
       "      <td>Tehran</td>\n",
       "      <td>2858000</td>\n",
       "      <td>45.0</td>\n",
       "      <td>3.0</td>\n",
       "      <td>2022.0</td>\n",
       "    </tr>\n",
       "    <tr>\n",
       "      <th>...</th>\n",
       "      <td>...</td>\n",
       "      <td>...</td>\n",
       "      <td>...</td>\n",
       "      <td>...</td>\n",
       "      <td>...</td>\n",
       "      <td>...</td>\n",
       "      <td>...</td>\n",
       "      <td>...</td>\n",
       "    </tr>\n",
       "    <tr>\n",
       "      <th>49949</th>\n",
       "      <td>438</td>\n",
       "      <td>Tablet</td>\n",
       "      <td>Electronics</td>\n",
       "      <td>Tehran</td>\n",
       "      <td>10972000</td>\n",
       "      <td>29.0</td>\n",
       "      <td>8.0</td>\n",
       "      <td>2021.0</td>\n",
       "    </tr>\n",
       "    <tr>\n",
       "      <th>49954</th>\n",
       "      <td>345</td>\n",
       "      <td>Pen</td>\n",
       "      <td>Stationery</td>\n",
       "      <td>Tehran</td>\n",
       "      <td>29000</td>\n",
       "      <td>426.0</td>\n",
       "      <td>12.0</td>\n",
       "      <td>2022.0</td>\n",
       "    </tr>\n",
       "    <tr>\n",
       "      <th>49957</th>\n",
       "      <td>911</td>\n",
       "      <td>Keyboard</td>\n",
       "      <td>Electronics</td>\n",
       "      <td>Tehran</td>\n",
       "      <td>22480000</td>\n",
       "      <td>5.0</td>\n",
       "      <td>11.0</td>\n",
       "      <td>2021.0</td>\n",
       "    </tr>\n",
       "    <tr>\n",
       "      <th>49982</th>\n",
       "      <td>465</td>\n",
       "      <td>Chair</td>\n",
       "      <td>Furniture</td>\n",
       "      <td>Tehran</td>\n",
       "      <td>815000</td>\n",
       "      <td>265.0</td>\n",
       "      <td>11.0</td>\n",
       "      <td>2023.0</td>\n",
       "    </tr>\n",
       "    <tr>\n",
       "      <th>49995</th>\n",
       "      <td>311</td>\n",
       "      <td>Chair</td>\n",
       "      <td>Furniture</td>\n",
       "      <td>Tehran</td>\n",
       "      <td>1848000</td>\n",
       "      <td>443.0</td>\n",
       "      <td>10.0</td>\n",
       "      <td>2021.0</td>\n",
       "    </tr>\n",
       "  </tbody>\n",
       "</table>\n",
       "<p>4996 rows × 8 columns</p>\n",
       "</div>"
      ],
      "text/plain": [
       "       ProductID ProductName     Category    City     Price  QuantitySold  \\\n",
       "6            323      Laptop  Electronics  Tehran  42432000           9.0   \n",
       "9            687      Laptop  Electronics  Tehran  34841000           1.0   \n",
       "26           970    Notebook   Stationery  Tehran     44000         434.0   \n",
       "44           740         Pen   Stationery  Tehran    192000         383.0   \n",
       "62           119   Bookshelf    Furniture  Tehran   2858000          45.0   \n",
       "...          ...         ...          ...     ...       ...           ...   \n",
       "49949        438      Tablet  Electronics  Tehran  10972000          29.0   \n",
       "49954        345         Pen   Stationery  Tehran     29000         426.0   \n",
       "49957        911    Keyboard  Electronics  Tehran  22480000           5.0   \n",
       "49982        465       Chair    Furniture  Tehran    815000         265.0   \n",
       "49995        311       Chair    Furniture  Tehran   1848000         443.0   \n",
       "\n",
       "       Month    Year  \n",
       "6        7.0  2023.0  \n",
       "9        7.0  2023.0  \n",
       "26      11.0  2021.0  \n",
       "44       3.0  2020.0  \n",
       "62       3.0  2022.0  \n",
       "...      ...     ...  \n",
       "49949    8.0  2021.0  \n",
       "49954   12.0  2022.0  \n",
       "49957   11.0  2021.0  \n",
       "49982   11.0  2023.0  \n",
       "49995   10.0  2021.0  \n",
       "\n",
       "[4996 rows x 8 columns]"
      ]
     },
     "execution_count": 33,
     "metadata": {},
     "output_type": "execute_result"
    }
   ],
   "source": [
    "salesPerCities.get_group('Tehran')"
   ]
  },
  {
   "cell_type": "code",
   "execution_count": 34,
   "id": "cc3e0d43-f665-4fef-a3da-200d61dae08b",
   "metadata": {},
   "outputs": [],
   "source": [
    "salesPerCities=data.groupby('City')['Price'].sum()\n"
   ]
  },
  {
   "cell_type": "code",
   "execution_count": 35,
   "id": "34fef2ed-40ba-45ea-a9ef-5d3f3066aa1c",
   "metadata": {},
   "outputs": [
    {
     "data": {
      "text/plain": [
       "City\n",
       "Ahvaz         77134106000\n",
       "Isfahan       80187598000\n",
       "Karaj         79780877000\n",
       "Kermanshah    80022598000\n",
       "Mashhad       79161466000\n",
       "Qom           81792428000\n",
       "Rasht         81092976000\n",
       "Shiraz        77285460000\n",
       "Tabriz        78309404000\n",
       "Tehran        77984686000\n",
       "Name: Price, dtype: int64"
      ]
     },
     "execution_count": 35,
     "metadata": {},
     "output_type": "execute_result"
    }
   ],
   "source": [
    "salesPerCities"
   ]
  },
  {
   "cell_type": "code",
   "execution_count": 40,
   "id": "2cd149ad-8e9b-4140-b893-68c9453b043d",
   "metadata": {},
   "outputs": [
    {
     "data": {
      "text/plain": [
       "([<matplotlib.patches.Wedge at 0x12f1b0fd0>,\n",
       "  <matplotlib.patches.Wedge at 0x12f1dd6d0>,\n",
       "  <matplotlib.patches.Wedge at 0x12f1de890>,\n",
       "  <matplotlib.patches.Wedge at 0x12f1c5590>,\n",
       "  <matplotlib.patches.Wedge at 0x12f1ed590>,\n",
       "  <matplotlib.patches.Wedge at 0x12f1eee10>,\n",
       "  <matplotlib.patches.Wedge at 0x12f1fc410>,\n",
       "  <matplotlib.patches.Wedge at 0x12f1a6590>,\n",
       "  <matplotlib.patches.Wedge at 0x12f1a5610>,\n",
       "  <matplotlib.patches.Wedge at 0x12f1eec10>],\n",
       " [Text(1.0490086114059365, 0.3310301091988299, 'Ahvaz'),\n",
       "  Text(0.6583894544746236, 0.8812056095126765, 'Isfahan'),\n",
       "  Text(0.008506919590478614, 1.0999671051077307, 'Karaj'),\n",
       "  Text(-0.6440984928696415, 0.8917046212076377, 'Kermanshah'),\n",
       "  Text(-1.0460751291457269, 0.3401864550254036, 'Mashhad'),\n",
       "  Text(-1.0429665071467034, -0.34960100825112844, 'Qom'),\n",
       "  Text(-0.6228032106363768, -0.9067062152764924, 'Rasht'),\n",
       "  Text(0.02834115173494362, -1.0996348389889878, 'Shiraz'),\n",
       "  Text(0.6590076217428013, -0.880743410128567, 'Tabriz'),\n",
       "  Text(1.0478868733745477, -0.3345640456016082, 'Tehran')],\n",
       " [Text(0.5721865153123289, 0.1805618777448163, '9.7%'),\n",
       "  Text(0.3591215206225219, 0.4806576051887326, '10.1%'),\n",
       "  Text(0.00464013795844288, 0.5999820573314893, '10.1%'),\n",
       "  Text(-0.351326450656168, 0.4863843388405296, '10.1%'),\n",
       "  Text(-0.5705864340794874, 0.1855562481956747, '10.0%'),\n",
       "  Text(-0.56889082208002, -0.19069145904607004, '10.3%'),\n",
       "  Text(-0.3397108421652964, -0.49456702651445034, '10.2%'),\n",
       "  Text(0.015458810037241972, -0.5998008212667205, '9.7%'),\n",
       "  Text(0.35945870276880065, -0.48040549643376373, '9.9%'),\n",
       "  Text(0.5715746582042986, -0.182489479419059, '9.8%')])"
      ]
     },
     "execution_count": 40,
     "metadata": {},
     "output_type": "execute_result"
    },
    {
     "data": {
      "image/png": "[encoded data removed]",
      "text/plain": [
       "<Figure size 640x480 with 1 Axes>"
      ]
     },
     "metadata": {},
     "output_type": "display_data"
    }
   ],
   "source": [
    "plt.pie(salesPerCities.values,labels=salesPerCities.index,autopct='%1.1f%%')"
   ]
  },
  {
   "cell_type": "code",
   "execution_count": null,
   "id": "4afd77a4-070f-4479-bf7d-7d3b6e29a9a4",
   "metadata": {},
   "outputs": [],
   "source": []
  }
 ],
 "metadata": {
  "kernelspec": {
   "display_name": "Python 3 (ipykernel)",
   "language": "python",
   "name": "python3"
  },
  "language_info": {
   "codemirror_mode": {
    "name": "ipython",
    "version": 3
   },
   "file_extension": ".py",
   "mimetype": "text/x-python",
   "name": "python",
   "nbconvert_exporter": "python",
   "pygments_lexer": "ipython3",
   "version": "3.11.9"
  }
 },
 "nbformat": 4,
 "nbformat_minor": 5
}
